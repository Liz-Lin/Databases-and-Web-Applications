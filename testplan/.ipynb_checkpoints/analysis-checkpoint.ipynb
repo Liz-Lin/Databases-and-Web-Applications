{
 "cells": [
  {
   "cell_type": "code",
   "execution_count": 1,
   "metadata": {
    "collapsed": false
   },
   "outputs": [
    {
     "name": "stdout",
     "output_type": "stream",
     "text": [
      "Populating the interactive namespace from numpy and matplotlib\n"
     ]
    }
   ],
   "source": [
    "%pylab inline\n",
    "import numpy as np"
   ]
  },
  {
   "cell_type": "code",
   "execution_count": 2,
   "metadata": {
    "collapsed": true
   },
   "outputs": [],
   "source": [
    "ratio = 1000000 # nano seconds to ms"
   ]
  },
  {
   "cell_type": "markdown",
   "metadata": {},
   "source": [
    "## Task 3.1 measure the TS and TJ\n",
    "Here, we are going to prepare for measuring the following two statistical variables: (1) the average time it takes for the search servlet to run completely for a query (called TS), and (2) the average time spent on the parts that use JDBC, per query (called TJ). Obviously, TS < TJ always."
   ]
  },
  {
   "cell_type": "markdown",
   "metadata": {},
   "source": [
    "# TASK 3.3"
   ]
  },
  {
   "cell_type": "markdown",
   "metadata": {},
   "source": [
    "## Single-instance cases"
   ]
  },
  {
   "cell_type": "markdown",
   "metadata": {},
   "source": [
    "1.Use HTTP, without using prepared statements, 10 threads in JMeter.\n"
   ]
  },
  {
   "cell_type": "code",
   "execution_count": 14,
   "metadata": {
    "collapsed": false
   },
   "outputs": [
    {
     "name": "stdout",
     "output_type": "stream",
     "text": [
      "average TJ is: 2683627571.7192454 nano seconds, equal to 2683.627571719245 ms \n",
      " and average TS is: 2826351497.506415 nano seconds, equal to 2826.351497506415 ms\n",
      "Average Query Time: 2881 ms\n"
     ]
    }
   ],
   "source": [
    "search_test_path = \"test_single_1.txt\"\n",
    "array = np.loadtxt(search_test_path)\n",
    "tj, ts = np.average(array, axis=0)\n",
    "print(\"average TJ is: {tj} nano seconds, equal to {tj_m} ms \\n \\\n",
    "and average TS is: {ts} nano seconds, equal to {ts_m} ms\".format(\n",
    "    tj=tj, ts=ts, tj_m = tj/ratio, ts_m = ts/ratio ))\n",
    "print (\"Average Query Time: 2881 ms\")"
   ]
  },
  {
   "cell_type": "markdown",
   "metadata": {},
   "source": [
    "2.Use HTTP, without using connection pooling, 10 threads in JMeter.\n"
   ]
  },
  {
   "cell_type": "code",
   "execution_count": 12,
   "metadata": {
    "collapsed": false
   },
   "outputs": [
    {
     "name": "stdout",
     "output_type": "stream",
     "text": [
      "average TJ is: 198677755.594717 nano seconds, equal to 198.67775559471698 ms \n",
      " and average TS is: 312062028.08943397 nano seconds, equal to 312.06202808943397 ms\n",
      "Average Query Time: 363 ms\n"
     ]
    }
   ],
   "source": [
    "search_test_path = \"test_single_2.txt\"\n",
    "array = np.loadtxt(search_test_path)\n",
    "tj, ts = np.average(array, axis=0)\n",
    "print(\"average TJ is: {tj} nano seconds, equal to {tj_m} ms \\n \\\n",
    "and average TS is: {ts} nano seconds, equal to {ts_m} ms\".format(\n",
    "    tj=tj, ts=ts, tj_m = tj/ratio, ts_m = ts/ratio ))\n",
    "print (\"Average Query Time: 363 ms\")"
   ]
  },
  {
   "cell_type": "markdown",
   "metadata": {},
   "source": [
    "3.Use HTTP, 1 thread in JMeter.\n"
   ]
  },
  {
   "cell_type": "code",
   "execution_count": 13,
   "metadata": {
    "collapsed": false
   },
   "outputs": [
    {
     "name": "stdout",
     "output_type": "stream",
     "text": [
      "average TJ is: 21991209.950943395 nano seconds, equal to 21.991209950943396 ms \n",
      " and average TS is: 52233589.56792453 nano seconds, equal to 52.23358956792453 ms\n",
      "Average Query Time: 85 ms\n"
     ]
    }
   ],
   "source": [
    "search_test_path = \"test_single_3.txt\"\n",
    "array = np.loadtxt(search_test_path)\n",
    "tj, ts = np.average(array, axis=0)\n",
    "print(\"average TJ is: {tj} nano seconds, equal to {tj_m} ms \\n \\\n",
    "and average TS is: {ts} nano seconds, equal to {ts_m} ms\".format(\n",
    "    tj=tj, ts=ts, tj_m = tj/ratio, ts_m = ts/ratio ))\n",
    "print (\"Average Query Time: 85 ms\")"
   ]
  },
  {
   "cell_type": "markdown",
   "metadata": {},
   "source": [
    "4.Use HTTP, 10 threads in JMeter."
   ]
  },
  {
   "cell_type": "code",
   "execution_count": 6,
   "metadata": {
    "collapsed": false
   },
   "outputs": [
    {
     "name": "stdout",
     "output_type": "stream",
     "text": [
      "average TJ is: 183044607.9335849 nano seconds, equal to 183.0446079335849 ms \n",
      " and average TS is: 316153828.94377357 nano seconds, equal to 316.1538289437736 ms\n",
      "Average Query Time: 358 ms\n"
     ]
    }
   ],
   "source": [
    "search_test_path = \"test_single_4.txt\"\n",
    "array = np.loadtxt(search_test_path)\n",
    "tj, ts = np.average(array, axis=0)\n",
    "print(\"average TJ is: {tj} nano seconds, equal to {tj_m} ms \\n \\\n",
    "and average TS is: {ts} nano seconds, equal to {ts_m} ms\".format(\n",
    "    tj=tj, ts=ts, tj_m = tj/ratio, ts_m = ts/ratio ))\n",
    "print (\"Average Query Time: 358 ms\")"
   ]
  },
  {
   "cell_type": "markdown",
   "metadata": {},
   "source": [
    "5.Use HTTPS, 10 threads in JMeter."
   ]
  },
  {
   "cell_type": "code",
   "execution_count": 9,
   "metadata": {
    "collapsed": false
   },
   "outputs": [
    {
     "name": "stdout",
     "output_type": "stream",
     "text": [
      "average TJ is: 176324994.20603773 nano seconds, equal to 176.32499420603773 ms \n",
      " and average TS is: 302492610.36566037 nano seconds, equal to 302.49261036566037 ms\n",
      "Average Query Time: 357 ms\n"
     ]
    }
   ],
   "source": [
    "search_test_path = \"test_single_5.txt\"\n",
    "array = np.loadtxt(search_test_path)\n",
    "tj, ts = np.average(array, axis=0)\n",
    "print(\"average TJ is: {tj} nano seconds, equal to {tj_m} ms \\n \\\n",
    "and average TS is: {ts} nano seconds, equal to {ts_m} ms\".format(\n",
    "    tj=tj, ts=ts, tj_m = tj/ratio, ts_m = ts/ratio ))\n",
    "print (\"Average Query Time: 357 ms\")"
   ]
  },
  {
   "cell_type": "markdown",
   "metadata": {},
   "source": [
    "## Scaled-version cases"
   ]
  },
  {
   "cell_type": "markdown",
   "metadata": {},
   "source": [
    "1.Use HTTP, without using prepared statements, 10 threads in JMeter.\n",
    "\n",
    "（sometimes time out, use too much time to return the result)\n"
   ]
  },
  {
   "cell_type": "code",
   "execution_count": 20,
   "metadata": {
    "collapsed": false
   },
   "outputs": [
    {
     "name": "stdout",
     "output_type": "stream",
     "text": [
      "average TJ is: 2605778885.7221594 nano seconds, equal to 2605.7788857221594 ms \n",
      " and average TS is: 2716331064.044923 nano seconds, equal to 2716.3310640449226 ms\n",
      "Average Query Time: 2857 ms\n"
     ]
    }
   ],
   "source": [
    "search_test_path = \"test_scale_1.txt\"\n",
    "array = np.loadtxt(search_test_path)\n",
    "tj, ts = np.average(array, axis=0)\n",
    "print(\"average TJ is: {tj} nano seconds, equal to {tj_m} ms \\n \\\n",
    "and average TS is: {ts} nano seconds, equal to {ts_m} ms\".format(\n",
    "    tj=tj, ts=ts, tj_m = tj/ratio, ts_m = ts/ratio ))\n",
    "print (\"Average Query Time: 2857 ms\")"
   ]
  },
  {
   "cell_type": "markdown",
   "metadata": {},
   "source": [
    "2.Use HTTP, without using connection pooling, 10 threads in JMeter.\n"
   ]
  },
  {
   "cell_type": "code",
   "execution_count": 21,
   "metadata": {
    "collapsed": false
   },
   "outputs": [
    {
     "name": "stdout",
     "output_type": "stream",
     "text": [
      "average TJ is: 187871603.6470366 nano seconds, equal to 187.8716036470366 ms \n",
      " and average TS is: 286500369.6402416 nano seconds, equal to 286.5003696402416 ms\n",
      "Average Query Time: 321 ms\n"
     ]
    }
   ],
   "source": [
    "search_test_path = \"test_scale_2.txt\"\n",
    "array = np.loadtxt(search_test_path)\n",
    "tj, ts = np.average(array, axis=0)\n",
    "print(\"average TJ is: {tj} nano seconds, equal to {tj_m} ms \\n \\\n",
    "and average TS is: {ts} nano seconds, equal to {ts_m} ms\".format(\n",
    "    tj=tj, ts=ts, tj_m = tj/ratio, ts_m = ts/ratio ))\n",
    "print (\"Average Query Time: 330 ms\")"
   ]
  },
  {
   "cell_type": "markdown",
   "metadata": {},
   "source": [
    "3.Use HTTP, 1 thread in JMeter.\n"
   ]
  },
  {
   "cell_type": "code",
   "execution_count": 18,
   "metadata": {
    "collapsed": false
   },
   "outputs": [
    {
     "name": "stdout",
     "output_type": "stream",
     "text": [
      "average TJ is: 21842992.7354717 nano seconds, equal to 21.8429927354717 ms \n",
      " and average TS is: 49415099.71471698 nano seconds, equal to 49.41509971471698 ms\n",
      "Average Query Time: 81 ms\n"
     ]
    }
   ],
   "source": [
    "search_test_path = \"test_scale_3.txt\"\n",
    "array = np.loadtxt(search_test_path)\n",
    "tj, ts = np.average(array, axis=0)\n",
    "print(\"average TJ is: {tj} nano seconds, equal to {tj_m} ms \\n \\\n",
    "and average TS is: {ts} nano seconds, equal to {ts_m} ms\".format(\n",
    "    tj=tj, ts=ts, tj_m = tj/ratio, ts_m = ts/ratio ))\n",
    "print (\"Average Query Time: 81 ms\")"
   ]
  },
  {
   "cell_type": "markdown",
   "metadata": {},
   "source": [
    "4.Use HTTP, 10 threads in JMeter."
   ]
  },
  {
   "cell_type": "code",
   "execution_count": 17,
   "metadata": {
    "collapsed": false
   },
   "outputs": [
    {
     "name": "stdout",
     "output_type": "stream",
     "text": [
      "average TJ is: 171934997.84932023 nano seconds, equal to 171.93499784932024 ms \n",
      " and average TS is: 292085397.32364047 nano seconds, equal to 292.08539732364045 ms\n",
      "Average Query Time: 340 ms\n"
     ]
    }
   ],
   "source": [
    "search_test_path = \"test_scale_4.txt\"\n",
    "array = np.loadtxt(search_test_path)\n",
    "tj, ts = np.average(array, axis=0)\n",
    "print(\"average TJ is: {tj} nano seconds, equal to {tj_m} ms \\n \\\n",
    "and average TS is: {ts} nano seconds, equal to {ts_m} ms\".format(\n",
    "    tj=tj, ts=ts, tj_m = tj/ratio, ts_m = ts/ratio ))\n",
    "print (\"Average Query Time: 340 ms\")"
   ]
  }
 ],
 "metadata": {
  "kernelspec": {
   "display_name": "Python 3",
   "language": "python",
   "name": "python3"
  },
  "language_info": {
   "codemirror_mode": {
    "name": "ipython",
    "version": 3
   },
   "file_extension": ".py",
   "mimetype": "text/x-python",
   "name": "python",
   "nbconvert_exporter": "python",
   "pygments_lexer": "ipython3",
   "version": "3.6.0"
  }
 },
 "nbformat": 4,
 "nbformat_minor": 2
}
